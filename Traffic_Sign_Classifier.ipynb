{
 "cells": [
  {
   "cell_type": "markdown",
   "metadata": {},
   "source": [
    "# Self-Driving Car Engineer Nanodegree\n",
    "\n",
    "## Deep Learning\n",
    "\n",
    "## Project: Build a Traffic Sign Recognition Classifier\n",
    "\n",
    "In this notebook, a template is provided for you to implement your functionality in stages, which is required to successfully complete this project. If additional code is required that cannot be included in the notebook, be sure that the Python code is successfully imported and included in your submission if necessary. \n",
    "\n",
    "> **Note**: Once you have completed all of the code implementations, you need to finalize your work by exporting the iPython Notebook as an HTML document. Before exporting the notebook to html, all of the code cells need to have been run so that reviewers can see the final implementation and output. You can then export the notebook by using the menu above and navigating to  \\n\",\n",
    "    \"**File -> Download as -> HTML (.html)**. Include the finished document along with this notebook as your submission. \n",
    "\n",
    "In addition to implementing code, there is a writeup to complete. The writeup should be completed in a separate file, which can be either a markdown file or a pdf document. There is a [write up template](https://github.com/udacity/CarND-Traffic-Sign-Classifier-Project/blob/master/writeup_template.md) that can be used to guide the writing process. Completing the code template and writeup template will cover all of the [rubric points](https://review.udacity.com/#!/rubrics/481/view) for this project.\n",
    "\n",
    "The [rubric](https://review.udacity.com/#!/rubrics/481/view) contains \"Stand Out Suggestions\" for enhancing the project beyond the minimum requirements. The stand out suggestions are optional. If you decide to pursue the \"stand out suggestions\", you can include the code in this Ipython notebook and also discuss the results in the writeup file.\n",
    "\n",
    "\n",
    ">**Note:** Code and Markdown cells can be executed using the **Shift + Enter** keyboard shortcut. In addition, Markdown cells can be edited by typically double-clicking the cell to enter edit mode."
   ]
  },
  {
   "cell_type": "markdown",
   "metadata": {},
   "source": [
    "---\n",
    "## Step 0: Load The Data"
   ]
  },
  {
   "cell_type": "code",
   "execution_count": 27,
   "metadata": {},
   "outputs": [],
   "source": [
    "# Load pickled data\n",
    "import pickle\n",
    "\n",
    "# TODO: Fill this in based on where you saved the training and testing data\n",
    "\n",
    "training_file = 'data/train.p'\n",
    "validation_file= 'data/valid.p'\n",
    "testing_file = 'data/test.p'\n",
    "\n",
    "with open(training_file, mode='rb') as f:\n",
    "    train = pickle.load(f)\n",
    "with open(validation_file, mode='rb') as f:\n",
    "    valid = pickle.load(f)\n",
    "with open(testing_file, mode='rb') as f:\n",
    "    test = pickle.load(f)\n",
    "    \n",
    "X_train, y_train = train['features'], train['labels']\n",
    "X_valid, y_valid = valid['features'], valid['labels']\n",
    "X_test, y_test = test['features'], test['labels']"
   ]
  },
  {
   "cell_type": "markdown",
   "metadata": {},
   "source": [
    "---\n",
    "\n",
    "## Step 1: Dataset Summary & Exploration\n",
    "\n",
    "The pickled data is a dictionary with 4 key/value pairs:\n",
    "\n",
    "- `'features'` is a 4D array containing raw pixel data of the traffic sign images, (num examples, width, height, channels).\n",
    "- `'labels'` is a 1D array containing the label/class id of the traffic sign. The file `signnames.csv` contains id -> name mappings for each id.\n",
    "- `'sizes'` is a list containing tuples, (width, height) representing the original width and height the image.\n",
    "- `'coords'` is a list containing tuples, (x1, y1, x2, y2) representing coordinates of a bounding box around the sign in the image. **THESE COORDINATES ASSUME THE ORIGINAL IMAGE. THE PICKLED DATA CONTAINS RESIZED VERSIONS (32 by 32) OF THESE IMAGES**\n",
    "\n",
    "Complete the basic data summary below. Use python, numpy and/or pandas methods to calculate the data summary rather than hard coding the results. For example, the [pandas shape method](http://pandas.pydata.org/pandas-docs/stable/generated/pandas.DataFrame.shape.html) might be useful for calculating some of the summary results. "
   ]
  },
  {
   "cell_type": "markdown",
   "metadata": {},
   "source": [
    "### Provide a Basic Summary of the Data Set Using Python, Numpy and/or Pandas"
   ]
  },
  {
   "cell_type": "code",
   "execution_count": 28,
   "metadata": {},
   "outputs": [
    {
     "name": "stdout",
     "output_type": "stream",
     "text": [
      "Number of training examples = 34799\n",
      "Number of testing examples = 12630\n",
      "Image data shape = (34799, 32, 32, 3)\n",
      "Number of classes = 43\n"
     ]
    }
   ],
   "source": [
    "### Replace each question mark with the appropriate value. \n",
    "### Use python, pandas or numpy methods rather than hard coding the results\n",
    "import numpy as np\n",
    "# TODO: Number of training examples\n",
    "n_train = len(X_train)\n",
    "\n",
    "# TODO: Number of validation examples\n",
    "n_validation = len(X_valid)\n",
    "\n",
    "# TODO: Number of testing examples.\n",
    "n_test = len(X_test)\n",
    "\n",
    "# TODO: What's the shape of an traffic sign image?\n",
    "image_shape = X_train.shape\n",
    "\n",
    "# TODO: How many unique classes/labels there are in the dataset.\n",
    "n_classes = len(np.unique(y_train))\n",
    "\n",
    "print(\"Number of training examples =\", n_train)\n",
    "print(\"Number of testing examples =\", n_test)\n",
    "print(\"Image data shape =\", image_shape)\n",
    "print(\"Number of classes =\", n_classes)"
   ]
  },
  {
   "cell_type": "markdown",
   "metadata": {},
   "source": [
    "### Include an exploratory visualization of the dataset"
   ]
  },
  {
   "cell_type": "markdown",
   "metadata": {},
   "source": [
    "Visualize the German Traffic Signs Dataset using the pickled file(s). This is open ended, suggestions include: plotting traffic sign images, plotting the count of each sign, etc. \n",
    "\n",
    "The [Matplotlib](http://matplotlib.org/) [examples](http://matplotlib.org/examples/index.html) and [gallery](http://matplotlib.org/gallery.html) pages are a great resource for doing visualizations in Python.\n",
    "\n",
    "**NOTE:** It's recommended you start with something simple first. If you wish to do more, come back to it after you've completed the rest of the sections. It can be interesting to look at the distribution of classes in the training, validation and test set. Is the distribution the same? Are there more examples of some classes than others?"
   ]
  },
  {
   "cell_type": "code",
   "execution_count": 104,
   "metadata": {},
   "outputs": [
    {
     "data": {
      "text/plain": [
       "Text(0.5,69,'Class')"
      ]
     },
     "execution_count": 104,
     "metadata": {},
     "output_type": "execute_result"
    },
    {
     "data": {
      "image/png": "[encoded data removed]",
      "text/plain": [
       "<matplotlib.figure.Figure at 0x7f845faa5e10>"
      ]
     },
     "metadata": {
      "needs_background": "light"
     },
     "output_type": "display_data"
    }
   ],
   "source": [
    "### Data exploration visualization code goes here.\n",
    "### Feel free to use as many code cells as needed.\n",
    "import matplotlib.pyplot as plt\n",
    "# Visualizations will be shown in the notebook.\n",
    "%matplotlib inline\n",
    "\n",
    "f, ax = plt.subplots(1, 1, figsize=(30, 10))\n",
    "f.tight_layout()\n",
    "\n",
    "ax.hist(y_train, bins=len(set(y_train)))\n",
    "ax.set_ylabel('Label')\n",
    "ax.set_xlabel('Class')"
   ]
  },
  {
   "cell_type": "markdown",
   "metadata": {},
   "source": [
    "----\n",
    "\n",
    "## Step 2: Design and Test a Model Architecture\n",
    "\n",
    "Design and implement a deep learning model that learns to recognize traffic signs. Train and test your model on the [German Traffic Sign Dataset](http://benchmark.ini.rub.de/?section=gtsrb&subsection=dataset).\n",
    "\n",
    "The LeNet-5 implementation shown in the [classroom](https://classroom.udacity.com/nanodegrees/nd013/parts/fbf77062-5703-404e-b60c-95b78b2f3f9e/modules/6df7ae49-c61c-4bb2-a23e-6527e69209ec/lessons/601ae704-1035-4287-8b11-e2c2716217ad/concepts/d4aca031-508f-4e0b-b493-e7b706120f81) at the end of the CNN lesson is a solid starting point. You'll have to change the number of classes and possibly the preprocessing, but aside from that it's plug and play! \n",
    "\n",
    "With the LeNet-5 solution from the lecture, you should expect a validation set accuracy of about 0.89. To meet specifications, the validation set accuracy will need to be at least 0.93. It is possible to get an even higher accuracy, but 0.93 is the minimum for a successful project submission. \n",
    "\n",
    "There are various aspects to consider when thinking about this problem:\n",
    "\n",
    "- Neural network architecture (is the network over or underfitting?)\n",
    "- Play around preprocessing techniques (normalization, rgb to grayscale, etc)\n",
    "- Number of examples per label (some have more than others).\n",
    "- Generate fake data.\n",
    "\n",
    "Here is an example of a [published baseline model on this problem](http://yann.lecun.com/exdb/publis/pdf/sermanet-ijcnn-11.pdf). It's not required to be familiar with the approach used in the paper but, it's good practice to try to read papers like these."
   ]
  },
  {
   "cell_type": "markdown",
   "metadata": {},
   "source": [
    "### Pre-process the Data Set (normalization, grayscale, etc.)"
   ]
  },
  {
   "cell_type": "markdown",
   "metadata": {},
   "source": [
    "Minimally, the image data should be normalized so that the data has mean zero and equal variance. For image data, `(pixel - 128)/ 128` is a quick way to approximately normalize the data and can be used in this project. \n",
    "\n",
    "Other pre-processing steps are optional. You can try different techniques to see if it improves performance. \n",
    "\n",
    "Use the code cell (or multiple code cells, if necessary) to implement the first step of your project."
   ]
  },
  {
   "cell_type": "code",
   "execution_count": 31,
   "metadata": {},
   "outputs": [
    {
     "name": "stdout",
     "output_type": "stream",
     "text": [
      "(34799, 32, 32, 3)\n",
      "(34799, 32, 32, 1)\n",
      "(12630, 32, 32, 3)\n",
      "(12630, 32, 32, 1)\n"
     ]
    }
   ],
   "source": [
    "### Preprocess the data here. It is required to normalize the data. Other preprocessing steps could include \n",
    "### converting to grayscale, etc.\n",
    "### Feel free to use as many code cells as needed.\n",
    "\n",
    "def normalize(data):\n",
    "    return data\n",
    "    return data/255 * 0.8 +0.1\n",
    "\n",
    "X_train_rgb = X_train\n",
    "X_train_gray = np.sum(X_train/3, axis=3, keepdims=True)\n",
    "\n",
    "X_test_rgb = X_test\n",
    "X_test_gray = np.sum(X_test/3, axis=3, keepdims=True)\n",
    "\n",
    "X_valid_rgb = X_valid\n",
    "X_valid_gray = np.sum(X_valid/3, axis=3, keepdims=True)\n",
    "\n",
    "print(X_train_rgb.shape)\n",
    "print(X_train_gray.shape)\n",
    "\n",
    "print(X_test_rgb.shape)\n",
    "print(X_test_gray.shape)\n",
    "\n",
    "X_train = normalize(X_train_gray)\n",
    "X_test = normalize(X_test_gray)\n",
    "X_valid = normalize(X_valid_gray)"
   ]
  },
  {
   "cell_type": "code",
   "execution_count": 32,
   "metadata": {},
   "outputs": [],
   "source": [
    "from sklearn.utils import shuffle\n",
    "X_train, y_train = shuffle(X_train, y_train)"
   ]
  },
  {
   "cell_type": "markdown",
   "metadata": {},
   "source": [
    "### Model Architecture"
   ]
  },
  {
   "cell_type": "code",
   "execution_count": 35,
   "metadata": {},
   "outputs": [],
   "source": [
    "### Define your architecture here.\n",
    "### Feel free to use as many code cells as needed.\n",
    "def signRecNet_deeper(x,lf1 = 8,lf2 = 16,lf3 = 32, lf4 = 32):    \n",
    "    # Arguments used for tf.truncated_normal, randomly defines variables for the weights and biases for each layer\n",
    "    mu = 0\n",
    "    sigma = 0.1\n",
    "    #print(x)\n",
    "    \n",
    "    #print('ConvNet Architecture:')\n",
    "\n",
    "    # Reshape from 2D to 4D. This prepares the data for\n",
    "    # convolutional and pooling layers.\n",
    "    #x = tf.reshape(x, (-1, 28, 28, 1))\n",
    "    # Pad 0s to 32x32. Centers the digit further.\n",
    "    # Add 2 rows/columns on each side for height and width dimensions.\n",
    "    #x = tf.pad(x, [[0, 0], [2, 2], [2, 2], [0, 0]], mode=\"CONSTANT\")   \n",
    "    #print(x)\n",
    "    \n",
    "    # TODO: Layer 1: Convolutional. Input = 32x32. Output = 30x30.\n",
    "    W_C1=tf.Variable(tf.truncated_normal((3,3,1,lf1),mu,sigma))\n",
    "    B_C1=tf.Variable(tf.zeros(lf1,1))\n",
    "    C1=tf.nn.conv2d(x,W_C1,[1,1,1,1],'VALID')+B_C1\n",
    "    AC1=tf.nn.relu(C1)\n",
    "    # Input = 30x30. Output = 28x28.\n",
    "    W_C2=tf.Variable(tf.truncated_normal((3,3,lf1,lf2),mu,sigma))\n",
    "    B_C2=tf.Variable(tf.zeros(lf2,1))\n",
    "    C2=tf.nn.conv2d(AC1,W_C2,[1,1,1,1],'VALID')+B_C2\n",
    "    AC2=tf.nn.relu(C2)\n",
    "    \n",
    "    # Input = 28x28. Output = 14x14xN\n",
    "    P1=tf.nn.max_pool(AC2,[1,2,2,1],[1,2,2,1],'VALID')\n",
    "    \n",
    "    DROP1=tf.nn.dropout(P1,keep_prob)\n",
    "    \n",
    "    # Input = 14x14xN. Output = 12x12xN.\n",
    "    W_C3=tf.Variable(tf.truncated_normal((3,3,lf2,lf3),mu,sigma))\n",
    "    B_C3=tf.Variable(tf.zeros(lf3,1))\n",
    "    C3=tf.nn.conv2d(DROP1,W_C3,[1,1,1,1],'VALID')+B_C3\n",
    "    AC3=tf.nn.relu(C3)\n",
    "    # Input = 12x12 Output = 10x10\n",
    "    W_C4=tf.Variable(tf.truncated_normal((3,3,lf3,lf4),mu,sigma))\n",
    "    B_C4=tf.Variable(tf.zeros(lf4,1))\n",
    "    C4=tf.nn.conv2d(AC3,W_C4,[1,1,1,1],'VALID')+B_C4\n",
    "    AC4=tf.nn.relu(C4)\n",
    "    \n",
    "    #Input = 10x10xN. Output = 5x5xN\n",
    "    P2=tf.nn.max_pool(AC4,[1,2,2,1],[1,2,2,1],'VALID')\n",
    "    #print(P2)\n",
    "    # Input = 5x5. Output = 3x3\n",
    "    W_C5=tf.Variable(tf.truncated_normal((3,3,lf4,lf4),mu,sigma))\n",
    "    B_C5=tf.Variable(tf.zeros(lf4,1))\n",
    "    C5=tf.nn.conv2d(P2,W_C5,[1,1,1,1],'VALID')+B_C5\n",
    "    #print(C5)\n",
    "    AC5=tf.nn.relu(C5)\n",
    "    #print(C5)\n",
    "    # TODO: Flatten. Input = 4x4x16. Output = 400.\n",
    "    FL = tf.contrib.layers.flatten(AC5,[1,3*3*lf4])\n",
    "    #print(FL)\n",
    "    #print(FL)\n",
    "    # TODO: Layer 3: Fully Connected. Input = 400. Output = 120.\n",
    "    #FC1 = tf.contrib.layers.fully_connected(FL,[400,120])\n",
    "    #DROP1=tf.nn.dropout(FL,0.5)\n",
    "    \n",
    "    #DROP2=tf.nn.dropout(FL,keep_prob = 0.6)\n",
    "    \n",
    "    W_FC1=tf.Variable(tf.truncated_normal((3*3*lf4,120),mu,sigma))\n",
    "    B_FC1=tf.Variable(tf.zeros(120,1))\n",
    "    FC1 = (tf.matmul(FL,W_FC1)+B_FC1)\n",
    "    #print(FC1)\n",
    "    #print(FC1)\n",
    "    # TODO: Activation.\n",
    "    AC4=tf.nn.relu(FC1)\n",
    "    #print(AC4)\n",
    "    # TODO: Layer 4: Fully Connected. Input = 120. Output = 84.\n",
    "    \n",
    "    DROP3=tf.nn.dropout(AC4,keep_prob)\n",
    "    \n",
    "    W_FC2=tf.Variable(tf.truncated_normal((120,84),mu,sigma))\n",
    "    B_FC2=tf.Variable(tf.zeros(84,1))\n",
    "    FC2 = (tf.matmul(DROP3,W_FC2)+B_FC2)\n",
    "    #print(FC2)\n",
    "    # TODO: Activation.\n",
    "    AC5=tf.nn.relu(FC2)\n",
    "    #print(AC5)\n",
    "    # TODO: Layer 5: Fully Connected. Input = 84. Output = 43.\n",
    "    W_FC3=tf.Variable(tf.truncated_normal((84,43),mu,sigma))\n",
    "    B_FC3=tf.Variable(tf.zeros(43,1))\n",
    "    FC3 = (tf.matmul(AC5,W_FC3)+B_FC3)\n",
    "    #print(FC3)\n",
    "    logits=FC3\n",
    "    return logits"
   ]
  },
  {
   "cell_type": "code",
   "execution_count": null,
   "metadata": {},
   "outputs": [],
   "source": []
  },
  {
   "cell_type": "markdown",
   "metadata": {},
   "source": [
    "### Train, Validate and Test the Model"
   ]
  },
  {
   "cell_type": "markdown",
   "metadata": {},
   "source": [
    "A validation set can be used to assess how well the model is performing. A low accuracy on the training and validation\n",
    "sets imply underfitting. A high accuracy on the training set but low accuracy on the validation set implies overfitting."
   ]
  },
  {
   "cell_type": "code",
   "execution_count": 52,
   "metadata": {},
   "outputs": [
    {
     "name": "stdout",
     "output_type": "stream",
     "text": [
      "Intialization Done\n",
      "Training...\n",
      "\n",
      "EPOCH 1 ...\n",
      "Test Accuracy = 0.490\n",
      "Validation Accuracy = 0.450\n",
      "\n",
      "EPOCH 2 ...\n",
      "Test Accuracy = 0.736\n",
      "Validation Accuracy = 0.696\n",
      "\n",
      "EPOCH 3 ...\n",
      "Test Accuracy = 0.827\n",
      "Validation Accuracy = 0.785\n",
      "\n",
      "EPOCH 4 ...\n",
      "Test Accuracy = 0.880\n",
      "Validation Accuracy = 0.842\n",
      "\n",
      "EPOCH 5 ...\n",
      "Test Accuracy = 0.904\n",
      "Validation Accuracy = 0.861\n",
      "\n",
      "EPOCH 6 ...\n",
      "Test Accuracy = 0.922\n",
      "Validation Accuracy = 0.887\n",
      "\n",
      "EPOCH 7 ...\n",
      "Test Accuracy = 0.939\n",
      "Validation Accuracy = 0.896\n",
      "\n",
      "EPOCH 8 ...\n",
      "Test Accuracy = 0.945\n",
      "Validation Accuracy = 0.909\n",
      "\n",
      "EPOCH 9 ...\n",
      "Test Accuracy = 0.952\n",
      "Validation Accuracy = 0.926\n",
      "\n",
      "EPOCH 10 ...\n",
      "Test Accuracy = 0.959\n",
      "Validation Accuracy = 0.923\n",
      "\n",
      "EPOCH 11 ...\n",
      "Test Accuracy = 0.961\n",
      "Validation Accuracy = 0.926\n",
      "\n",
      "EPOCH 12 ...\n",
      "Test Accuracy = 0.962\n",
      "Validation Accuracy = 0.932\n",
      "\n",
      "EPOCH 13 ...\n",
      "Test Accuracy = 0.967\n",
      "Validation Accuracy = 0.931\n",
      "\n",
      "EPOCH 14 ...\n",
      "Test Accuracy = 0.962\n",
      "Validation Accuracy = 0.915\n",
      "\n",
      "EPOCH 15 ...\n",
      "Test Accuracy = 0.973\n",
      "Validation Accuracy = 0.936\n",
      "\n",
      "EPOCH 16 ...\n",
      "Test Accuracy = 0.976\n",
      "Validation Accuracy = 0.936\n",
      "\n",
      "EPOCH 17 ...\n",
      "Test Accuracy = 0.976\n",
      "Validation Accuracy = 0.944\n",
      "\n",
      "EPOCH 18 ...\n",
      "Test Accuracy = 0.970\n",
      "Validation Accuracy = 0.933\n",
      "\n",
      "EPOCH 19 ...\n",
      "Test Accuracy = 0.979\n",
      "Validation Accuracy = 0.949\n",
      "\n",
      "EPOCH 20 ...\n",
      "Test Accuracy = 0.982\n",
      "Validation Accuracy = 0.947\n",
      "\n",
      "EPOCH 21 ...\n",
      "Test Accuracy = 0.981\n",
      "Validation Accuracy = 0.946\n",
      "\n",
      "EPOCH 22 ...\n",
      "Test Accuracy = 0.981\n",
      "Validation Accuracy = 0.951\n",
      "\n",
      "EPOCH 23 ...\n",
      "Test Accuracy = 0.979\n",
      "Validation Accuracy = 0.950\n",
      "\n",
      "EPOCH 24 ...\n",
      "Test Accuracy = 0.983\n",
      "Validation Accuracy = 0.955\n",
      "\n",
      "EPOCH 25 ...\n",
      "Test Accuracy = 0.986\n",
      "Validation Accuracy = 0.953\n",
      "\n",
      "EPOCH 26 ...\n",
      "Test Accuracy = 0.984\n",
      "Validation Accuracy = 0.951\n",
      "\n",
      "EPOCH 27 ...\n",
      "Test Accuracy = 0.980\n",
      "Validation Accuracy = 0.949\n",
      "\n",
      "EPOCH 28 ...\n",
      "Test Accuracy = 0.985\n",
      "Validation Accuracy = 0.949\n",
      "\n",
      "EPOCH 29 ...\n",
      "Test Accuracy = 0.980\n",
      "Validation Accuracy = 0.949\n",
      "\n",
      "EPOCH 30 ...\n",
      "Test Accuracy = 0.981\n",
      "Validation Accuracy = 0.950\n",
      "\n",
      "EPOCH 31 ...\n",
      "Test Accuracy = 0.982\n",
      "Validation Accuracy = 0.949\n",
      "\n",
      "EPOCH 32 ...\n",
      "Test Accuracy = 0.985\n",
      "Validation Accuracy = 0.955\n",
      "\n",
      "EPOCH 33 ...\n",
      "Test Accuracy = 0.985\n",
      "Validation Accuracy = 0.952\n",
      "\n",
      "EPOCH 34 ...\n",
      "Test Accuracy = 0.985\n",
      "Validation Accuracy = 0.947\n",
      "\n",
      "EPOCH 35 ...\n",
      "Test Accuracy = 0.988\n",
      "Validation Accuracy = 0.955\n",
      "\n",
      "EPOCH 36 ...\n",
      "Test Accuracy = 0.986\n",
      "Validation Accuracy = 0.952\n",
      "\n",
      "EPOCH 37 ...\n",
      "Test Accuracy = 0.990\n",
      "Validation Accuracy = 0.959\n",
      "\n",
      "EPOCH 38 ...\n",
      "Test Accuracy = 0.984\n",
      "Validation Accuracy = 0.954\n",
      "\n",
      "EPOCH 39 ...\n",
      "Test Accuracy = 0.990\n",
      "Validation Accuracy = 0.961\n",
      "\n",
      "EPOCH 40 ...\n",
      "Test Accuracy = 0.982\n",
      "Validation Accuracy = 0.938\n",
      "\n",
      "EPOCH 41 ...\n",
      "Test Accuracy = 0.986\n",
      "Validation Accuracy = 0.957\n",
      "\n",
      "EPOCH 42 ...\n",
      "Test Accuracy = 0.988\n",
      "Validation Accuracy = 0.959\n",
      "\n",
      "EPOCH 43 ...\n",
      "Test Accuracy = 0.990\n",
      "Validation Accuracy = 0.961\n",
      "\n",
      "EPOCH 44 ...\n",
      "Test Accuracy = 0.989\n",
      "Validation Accuracy = 0.956\n",
      "\n",
      "EPOCH 45 ...\n",
      "Test Accuracy = 0.992\n",
      "Validation Accuracy = 0.966\n",
      "\n",
      "EPOCH 46 ...\n",
      "Test Accuracy = 0.992\n",
      "Validation Accuracy = 0.966\n",
      "\n",
      "EPOCH 47 ...\n",
      "Test Accuracy = 0.990\n",
      "Validation Accuracy = 0.965\n",
      "\n",
      "EPOCH 48 ...\n",
      "Test Accuracy = 0.991\n",
      "Validation Accuracy = 0.954\n",
      "\n",
      "EPOCH 49 ...\n",
      "Test Accuracy = 0.989\n",
      "Validation Accuracy = 0.963\n",
      "\n",
      "EPOCH 50 ...\n",
      "Test Accuracy = 0.990\n",
      "Validation Accuracy = 0.962\n",
      "\n",
      "EPOCH 51 ...\n",
      "Test Accuracy = 0.991\n",
      "Validation Accuracy = 0.966\n",
      "\n",
      "EPOCH 52 ...\n",
      "Test Accuracy = 0.993\n",
      "Validation Accuracy = 0.965\n",
      "\n",
      "EPOCH 53 ...\n",
      "Test Accuracy = 0.993\n",
      "Validation Accuracy = 0.966\n",
      "\n",
      "EPOCH 54 ...\n",
      "Test Accuracy = 0.991\n",
      "Validation Accuracy = 0.958\n",
      "\n",
      "EPOCH 55 ...\n",
      "Test Accuracy = 0.992\n",
      "Validation Accuracy = 0.963\n",
      "\n",
      "EPOCH 56 ...\n",
      "Test Accuracy = 0.984\n",
      "Validation Accuracy = 0.943\n",
      "\n",
      "EPOCH 57 ...\n",
      "Test Accuracy = 0.993\n",
      "Validation Accuracy = 0.963\n",
      "\n",
      "EPOCH 58 ...\n",
      "Test Accuracy = 0.993\n",
      "Validation Accuracy = 0.963\n",
      "\n",
      "EPOCH 59 ...\n",
      "Test Accuracy = 0.990\n",
      "Validation Accuracy = 0.964\n",
      "\n",
      "EPOCH 60 ...\n",
      "Test Accuracy = 0.989\n",
      "Validation Accuracy = 0.956\n",
      "\n",
      "EPOCH 61 ...\n",
      "Test Accuracy = 0.992\n",
      "Validation Accuracy = 0.964\n",
      "\n",
      "EPOCH 62 ...\n",
      "Test Accuracy = 0.985\n",
      "Validation Accuracy = 0.954\n",
      "\n",
      "EPOCH 63 ...\n",
      "Test Accuracy = 0.992\n",
      "Validation Accuracy = 0.964\n",
      "\n",
      "EPOCH 64 ...\n",
      "Test Accuracy = 0.987\n",
      "Validation Accuracy = 0.950\n",
      "\n",
      "EPOCH 65 ...\n",
      "Test Accuracy = 0.992\n",
      "Validation Accuracy = 0.962\n",
      "\n",
      "EPOCH 66 ...\n",
      "Test Accuracy = 0.993\n",
      "Validation Accuracy = 0.963\n",
      "\n",
      "EPOCH 67 ...\n",
      "Test Accuracy = 0.994\n",
      "Validation Accuracy = 0.969\n",
      "\n",
      "EPOCH 68 ...\n",
      "Test Accuracy = 0.993\n",
      "Validation Accuracy = 0.965\n",
      "\n",
      "EPOCH 69 ...\n",
      "Test Accuracy = 0.992\n",
      "Validation Accuracy = 0.970\n",
      "\n",
      "EPOCH 70 ...\n",
      "Test Accuracy = 0.992\n",
      "Validation Accuracy = 0.966\n",
      "\n",
      "EPOCH 71 ...\n",
      "Test Accuracy = 0.993\n",
      "Validation Accuracy = 0.967\n",
      "\n",
      "EPOCH 72 ...\n",
      "Test Accuracy = 0.991\n",
      "Validation Accuracy = 0.961\n",
      "\n",
      "EPOCH 73 ...\n",
      "Test Accuracy = 0.993\n",
      "Validation Accuracy = 0.960\n",
      "\n",
      "EPOCH 74 ...\n",
      "Test Accuracy = 0.993\n",
      "Validation Accuracy = 0.966\n",
      "\n",
      "EPOCH 75 ...\n",
      "Test Accuracy = 0.993\n",
      "Validation Accuracy = 0.969\n",
      "\n",
      "Model saved\n"
     ]
    }
   ],
   "source": [
    "### Train your model here.\n",
    "### Calculate and report the accuracy on the training and validation set.\n",
    "### Once a final model architecture is selected, \n",
    "### the accuracy on the test set should be calculated and reported as well.\n",
    "### Feel free to use as many code cells as needed.\n",
    "import tensorflow as tf\n",
    "EPOCHS = 75\n",
    "BATCH_SIZE = 256\n",
    "\n",
    "rate = 0.001\n",
    "\n",
    "x = tf.placeholder(tf.float32, (None, 32, 32, 1))\n",
    "y = tf.placeholder(tf.int32, (None))\n",
    "one_hot_y = tf.one_hot(y, n_classes)\n",
    "keep_prob = tf.placeholder(tf.float32)\n",
    "#logits = LeNet(x,6,16)\n",
    "#logits = signRecNet(x)\n",
    "logits = signRecNet_deeper(x)\n",
    "cross_entropy = tf.nn.softmax_cross_entropy_with_logits(logits = logits, labels = one_hot_y)\n",
    "loss_operation = tf.reduce_mean(cross_entropy)\n",
    "optimizer = tf.train.AdamOptimizer(learning_rate = rate)\n",
    "training_operation = optimizer.minimize(loss_operation)\n",
    "\n",
    "### Evaluate Model Using Test Data\n",
    "correct_prediction = tf.equal(tf.argmax(logits, 1), tf.argmax(one_hot_y, 1))\n",
    "accuracy_operation = tf.reduce_mean(tf.cast(correct_prediction, tf.float32))\n",
    "saver = tf.train.Saver()\n",
    "print('Intialization Done')\n",
    "\n",
    "def evaluate(X_data, y_data):\n",
    "    num_examples = len(X_data)\n",
    "    total_accuracy = 0\n",
    "    sess = tf.get_default_session()\n",
    "    for offset in range(0, num_examples, BATCH_SIZE):\n",
    "        batch_x, batch_y = X_data[offset:offset+BATCH_SIZE], y_data[offset:offset+BATCH_SIZE]\n",
    "        accuracy = sess.run(accuracy_operation, feed_dict={x: batch_x, y: batch_y , keep_prob : 0.0})\n",
    "        total_accuracy += (accuracy * len(batch_x))\n",
    "    return total_accuracy / num_examples\n",
    "\n",
    "### Train the Model\n",
    "\n",
    "import tensorflow as tf\n",
    "\n",
    "from sklearn.utils import shuffle\n",
    "\n",
    "num_of_filters = np.array((8,16))\n",
    "\n",
    "\n",
    "with tf.Session() as sess:\n",
    "    sess.run(tf.global_variables_initializer())\n",
    "    num_examples = len(X_train)\n",
    "    \n",
    "    print(\"Training...\")\n",
    "    print()\n",
    "    validation_accuracy_figure = []\n",
    "    test_accuracy_figure = []\n",
    "    for i in range(EPOCHS):\n",
    "        X_train, y_train = shuffle(X_train, y_train)\n",
    "        for offset in range(0, num_examples, BATCH_SIZE):\n",
    "            end = offset + BATCH_SIZE\n",
    "            batch_x, batch_y = X_train[offset:end], y_train[offset:end]\n",
    "            sess.run(training_operation, feed_dict={x: batch_x, y: batch_y , keep_prob:0.5})\n",
    "            \n",
    "        validation_accuracy = evaluate(X_valid, y_valid)\n",
    "        validation_accuracy_figure.append(validation_accuracy)\n",
    "        \n",
    "        test_accuracy = evaluate(X_train, y_train)\n",
    "        test_accuracy_figure.append(test_accuracy)\n",
    "        print(\"EPOCH {} ...\".format(i+1))\n",
    "        print(\"Test Accuracy = {:.3f}\".format(test_accuracy))\n",
    "        print(\"Validation Accuracy = {:.3f}\".format(validation_accuracy))\n",
    "        print()\n",
    "        \n",
    "    saver.save(sess, './lenet')\n",
    "    print(\"Model saved\")\n",
    "    "
   ]
  },
  {
   "cell_type": "code",
   "execution_count": 55,
   "metadata": {},
   "outputs": [
    {
     "data": {
      "image/png": "[encoded data removed]",
      "text/plain": [
       "<matplotlib.figure.Figure at 0x7f84aaceb668>"
      ]
     },
     "metadata": {
      "needs_background": "light"
     },
     "output_type": "display_data"
    },
    {
     "data": {
      "image/png": "[encoded data removed]",
      "text/plain": [
       "<matplotlib.figure.Figure at 0x7f84a6c16cf8>"
      ]
     },
     "metadata": {
      "needs_background": "light"
     },
     "output_type": "display_data"
    }
   ],
   "source": [
    "plt.plot(validation_accuracy_figure)\n",
    "plt.title(\"Test Accuracy\")\n",
    "plt.show()\n",
    "\n",
    "plt.plot(validation_accuracy_figure)\n",
    "plt.title(\"Validation Accuracy\")\n",
    "plt.show()"
   ]
  },
  {
   "cell_type": "code",
   "execution_count": 58,
   "metadata": {},
   "outputs": [
    {
     "name": "stdout",
     "output_type": "stream",
     "text": [
      "INFO:tensorflow:Restoring parameters from ./lenet\n",
      "Train Accuracy = 0.993\n",
      "Valid Accuracy = 0.972\n",
      "Test Accuracy = 0.946\n"
     ]
    }
   ],
   "source": [
    "\n",
    "with tf.Session() as sess:\n",
    "    saver.restore(sess, tf.train.latest_checkpoint('.'))\n",
    "\n",
    "    train_accuracy = evaluate(X_train, y_train)\n",
    "    print(\"Train Accuracy = {:.3f}\".format(train_accuracy))\n",
    "    \n",
    "    valid_accuracy = evaluate(X_valid, y_valid)\n",
    "    print(\"Valid Accuracy = {:.3f}\".format(valid_accuracy))    \n",
    "    \n",
    "    test_accuracy = evaluate(X_test, y_test)\n",
    "    print(\"Test Accuracy = {:.3f}\".format(test_accuracy))"
   ]
  },
  {
   "cell_type": "markdown",
   "metadata": {},
   "source": [
    "---\n",
    "\n",
    "## Step 3: Test a Model on New Images\n",
    "\n",
    "To give yourself more insight into how your model is working, download at least five pictures of German traffic signs from the web and use your model to predict the traffic sign type.\n",
    "\n",
    "You may find `signnames.csv` useful as it contains mappings from the class id (integer) to the actual sign name."
   ]
  },
  {
   "cell_type": "markdown",
   "metadata": {},
   "source": [
    "### Load and Output the Images"
   ]
  },
  {
   "cell_type": "code",
   "execution_count": 59,
   "metadata": {},
   "outputs": [],
   "source": [
    "import csv\n",
    "signname = {}\n",
    "with open('signnames.csv', 'r') as f:\n",
    "    reader = csv.reader(f)\n",
    "    for r in reader:\n",
    "        if r[0].isdigit():\n",
    "            signname[int(r[0])] = r[1]\n",
    "NCLASS = len(signname)"
   ]
  },
  {
   "cell_type": "code",
   "execution_count": 108,
   "metadata": {},
   "outputs": [],
   "source": [
    "### Load the images and plot them here.\n",
    "import glob\n",
    "### Feel free to use as many code cells as needed.\n",
    "images = glob.glob(\"*.png\")"
   ]
  },
  {
   "cell_type": "code",
   "execution_count": 135,
   "metadata": {},
   "outputs": [],
   "source": [
    "\n",
    "from PIL import Image\n",
    "import os\n",
    "\n",
    "def read_file_to_32x32_array(file):\n",
    "    x = Image.open(file).convert(\"RGB\")\n",
    "    \n",
    "    x = x.resize((32,32))\n",
    "    return np.array(x)\n",
    "image = np.array([read_file_to_32x32_array(i) for i in images])\n",
    "image = np.sum(image/3, axis=3, keepdims=True)\n",
    "image = normalize(image)"
   ]
  },
  {
   "cell_type": "markdown",
   "metadata": {},
   "source": [
    "### Predict the Sign Type for Each Image"
   ]
  },
  {
   "cell_type": "code",
   "execution_count": 80,
   "metadata": {},
   "outputs": [],
   "source": [
    "\n",
    "def evaluate(X_data, y_data):\n",
    "    num_examples = len(X_data)\n",
    "    total_accuracy = 0\n",
    "    sess = tf.get_default_session()\n",
    "    for offset in range(0, num_examples, BATCH_SIZE):\n",
    "        batch_x, batch_y = X_data[offset:offset+BATCH_SIZE], y_data[offset:offset+BATCH_SIZE]\n",
    "        accuracy = sess.run(accuracy_operation, feed_dict={x: batch_x, y: batch_y , keep_prob : 1.0})\n",
    "        total_accuracy += (accuracy * len(batch_x))\n",
    "    return total_accuracy / num_examples"
   ]
  },
  {
   "cell_type": "code",
   "execution_count": null,
   "metadata": {},
   "outputs": [],
   "source": []
  },
  {
   "cell_type": "code",
   "execution_count": 166,
   "metadata": {},
   "outputs": [
    {
     "name": "stdout",
     "output_type": "stream",
     "text": [
      "INFO:tensorflow:Restoring parameters from ./lenet\n",
      "Wild animals crossing\n"
     ]
    },
    {
     "data": {
      "image/png": "[encoded data removed]",
      "text/plain": [
       "<matplotlib.figure.Figure at 0x7f8354e719e8>"
      ]
     },
     "metadata": {
      "needs_background": "light"
     },
     "output_type": "display_data"
    },
    {
     "name": "stdout",
     "output_type": "stream",
     "text": [
      "Ahead only\n"
     ]
    },
    {
     "data": {
      "image/png": "[encoded data removed]",
      "text/plain": [
       "<matplotlib.figure.Figure at 0x7f835220dcc0>"
      ]
     },
     "metadata": {
      "needs_background": "light"
     },
     "output_type": "display_data"
    },
    {
     "name": "stdout",
     "output_type": "stream",
     "text": [
      "No entry\n"
     ]
    },
    {
     "data": {
      "image/png": "[encoded data removed]",
      "text/plain": [
       "<matplotlib.figure.Figure at 0x7f8352242630>"
      ]
     },
     "metadata": {
      "needs_background": "light"
     },
     "output_type": "display_data"
    },
    {
     "name": "stdout",
     "output_type": "stream",
     "text": [
      "General caution\n"
     ]
    },
    {
     "data": {
      "image/png": "[encoded data removed]",
      "text/plain": [
       "<matplotlib.figure.Figure at 0x7f83521a46a0>"
      ]
     },
     "metadata": {
      "needs_background": "light"
     },
     "output_type": "display_data"
    },
    {
     "name": "stdout",
     "output_type": "stream",
     "text": [
      "Bicycles crossing\n"
     ]
    },
    {
     "data": {
      "image/png": "[encoded data removed]",
      "text/plain": [
       "<matplotlib.figure.Figure at 0x7f83521dc4e0>"
      ]
     },
     "metadata": {
      "needs_background": "light"
     },
     "output_type": "display_data"
    }
   ],
   "source": [
    "### Run the predictions here and use the model to output the prediction for each image.\n",
    "### Make sure to pre-process the images with the same pre-processing pipeline used earlier.\n",
    "### Feel free to use as many code cells as needed.\n",
    "k_size = 5\n",
    "softmax_logits = tf.nn.softmax(logits)\n",
    "top_k = tf.nn.top_k(softmax_logits, k=k_size)\n",
    "def predict(features, human_readable=False):\n",
    "    saver = tf.train.Saver()\n",
    "\n",
    "    with tf.Session() as sess:\n",
    "        sess.run(tf.global_variables_initializer())\n",
    "        saver.restore(sess,'./lenet')\n",
    "        results = sess.run(tf.argmax(logits, 1), {x : features})\n",
    "        predict = results\n",
    "        if human_readable:\n",
    "            results = [signname[n] for n in results]\n",
    "        return results\n",
    "import cv2\n",
    "r = predict(image, True)\n",
    "\n",
    "for index , i  in enumerate(images):\n",
    "    print(r[index])\n",
    "    i = cv2.imread(i)\n",
    "    plt.imshow(i)\n",
    "    plt.show()\n",
    "    "
   ]
  },
  {
   "cell_type": "code",
   "execution_count": null,
   "metadata": {},
   "outputs": [],
   "source": []
  },
  {
   "cell_type": "markdown",
   "metadata": {},
   "source": [
    "### Analyze Performance"
   ]
  },
  {
   "cell_type": "code",
   "execution_count": 149,
   "metadata": {},
   "outputs": [
    {
     "name": "stdout",
     "output_type": "stream",
     "text": [
      "INFO:tensorflow:Restoring parameters from ./lenet\n",
      "accuracy is 0.800\n"
     ]
    }
   ],
   "source": [
    "with tf.Session() as sess:\n",
    "    saver.restore(sess, tf.train.latest_checkpoint('.'))\n",
    "    acc = evaluate(image , [31,35,17,27,29])\n",
    "    print(\"accuracy is {:.3f}\".format(acc))"
   ]
  },
  {
   "cell_type": "markdown",
   "metadata": {},
   "source": [
    "### Output Top 5 Softmax Probabilities For Each Image Found on the Web"
   ]
  },
  {
   "cell_type": "code",
   "execution_count": 160,
   "metadata": {},
   "outputs": [
    {
     "name": "stdout",
     "output_type": "stream",
     "text": [
      "INFO:tensorflow:Restoring parameters from ./lenet\n",
      "TopKV2(values=array([[  1.00000000e+00,   4.93249708e-09,   1.22332726e-11,\n",
      "          6.59979580e-12,   6.00754429e-12],\n",
      "       [  1.00000000e+00,   2.55077968e-12,   1.54617530e-13,\n",
      "          1.87772110e-14,   2.42899573e-15],\n",
      "       [  1.00000000e+00,   2.34778711e-12,   4.84632842e-13,\n",
      "          1.36479560e-15,   1.35973924e-15],\n",
      "       [  9.98685420e-01,   1.31230836e-03,   1.40335351e-06,\n",
      "          3.50238651e-07,   2.43854629e-07],\n",
      "       [  9.42615509e-01,   5.73841073e-02,   3.25500480e-07,\n",
      "          4.07444212e-08,   1.63107672e-09]], dtype=float32), indices=array([[31, 21, 18,  7,  1],\n",
      "       [35, 34, 29, 28, 24],\n",
      "       [17, 34, 22, 14, 13],\n",
      "       [18, 27, 20, 25, 28],\n",
      "       [29, 28, 35, 11, 30]], dtype=int32))\n"
     ]
    }
   ],
   "source": [
    "logits_softmax = tf.nn.softmax(logits)\n",
    "top_k = tf.nn.top_k(logits_softmax, 5)\n",
    "\n",
    "with tf.Session() as sess:\n",
    "    saver.restore(sess, tf.train.latest_checkpoint('.'))\n",
    "    \n",
    "    softmax_logits = sess.run(logits_softmax, feed_dict={x: image, keep_prob: 1.0})\n",
    "    top_k_5 = sess.run(top_k, feed_dict={x: image, keep_prob: 1.0})\n",
    "    \n",
    "    print(top_k_5)"
   ]
  },
  {
   "cell_type": "code",
   "execution_count": 162,
   "metadata": {},
   "outputs": [
    {
     "name": "stdout",
     "output_type": "stream",
     "text": [
      "['Wild animals crossing', 'Double curve', 'General caution', 'Speed limit (100km/h)', 'Speed limit (30km/h)']\n",
      "['Ahead only', 'Turn left ahead', 'Bicycles crossing', 'Children crossing', 'Road narrows on the right']\n",
      "['No entry', 'Turn left ahead', 'Bumpy road', 'Stop', 'Yield']\n",
      "['General caution', 'Pedestrians', 'Dangerous curve to the right', 'Road work', 'Children crossing']\n",
      "['Bicycles crossing', 'Children crossing', 'Ahead only', 'Right-of-way at the next intersection', 'Beware of ice/snow']\n"
     ]
    }
   ],
   "source": [
    "top = [[31, 21, 18,  7,  1],\n",
    "       [35, 34, 29, 28, 24],\n",
    "       [17, 34, 22, 14, 13],\n",
    "       [18, 27, 20, 25, 28],\n",
    "       [29, 28, 35, 11, 30]]\n",
    "for i in top:\n",
    "    res = [signname[n] for n in i]\n",
    "    print(res)"
   ]
  },
  {
   "cell_type": "markdown",
   "metadata": {},
   "source": [
    "For each of the new images, print out the model's softmax probabilities to show the **certainty** of the model's predictions (limit the output to the top 5 probabilities for each image). [`tf.nn.top_k`](https://www.tensorflow.org/versions/r0.12/api_docs/python/nn.html#top_k) could prove helpful here. \n",
    "\n",
    "The example below demonstrates how tf.nn.top_k can be used to find the top k predictions for each image.\n",
    "\n",
    "`tf.nn.top_k` will return the values and indices (class ids) of the top k predictions. So if k=3, for each sign, it'll return the 3 largest probabilities (out of a possible 43) and the correspoding class ids.\n",
    "\n",
    "Take this numpy array as an example. The values in the array represent predictions. The array contains softmax probabilities for five candidate images with six possible classes. `tf.nn.top_k` is used to choose the three classes with the highest probability:\n",
    "\n",
    "```\n",
    "# (5, 6) array\n",
    "a = np.array([[ 0.24879643,  0.07032244,  0.12641572,  0.34763842,  0.07893497,\n",
    "         0.12789202],\n",
    "       [ 0.28086119,  0.27569815,  0.08594638,  0.0178669 ,  0.18063401,\n",
    "         0.15899337],\n",
    "       [ 0.26076848,  0.23664738,  0.08020603,  0.07001922,  0.1134371 ,\n",
    "         0.23892179],\n",
    "       [ 0.11943333,  0.29198961,  0.02605103,  0.26234032,  0.1351348 ,\n",
    "         0.16505091],\n",
    "       [ 0.09561176,  0.34396535,  0.0643941 ,  0.16240774,  0.24206137,\n",
    "         0.09155967]])\n",
    "```\n",
    "\n",
    "Running it through `sess.run(tf.nn.top_k(tf.constant(a), k=3))` produces:\n",
    "\n",
    "```\n",
    "TopKV2(values=array([[ 0.34763842,  0.24879643,  0.12789202],\n",
    "       [ 0.28086119,  0.27569815,  0.18063401],\n",
    "       [ 0.26076848,  0.23892179,  0.23664738],\n",
    "       [ 0.29198961,  0.26234032,  0.16505091],\n",
    "       [ 0.34396535,  0.24206137,  0.16240774]]), indices=array([[3, 0, 5],\n",
    "       [0, 1, 4],\n",
    "       [0, 5, 1],\n",
    "       [1, 3, 5],\n",
    "       [1, 4, 3]], dtype=int32))\n",
    "```\n",
    "\n",
    "Looking just at the first row we get `[ 0.34763842,  0.24879643,  0.12789202]`, you can confirm these are the 3 largest probabilities in `a`. You'll also notice `[3, 0, 5]` are the corresponding indices."
   ]
  },
  {
   "cell_type": "code",
   "execution_count": 3,
   "metadata": {
    "collapsed": true
   },
   "outputs": [],
   "source": [
    "### Print out the top five softmax probabilities for the predictions on the German traffic sign images found on the web. \n",
    "### Feel free to use as many code cells as needed."
   ]
  },
  {
   "cell_type": "markdown",
   "metadata": {},
   "source": [
    "### Project Writeup\n",
    "\n",
    "Once you have completed the code implementation, document your results in a project writeup using this [template](https://github.com/udacity/CarND-Traffic-Sign-Classifier-Project/blob/master/writeup_template.md) as a guide. The writeup can be in a markdown or pdf file. "
   ]
  },
  {
   "cell_type": "markdown",
   "metadata": {},
   "source": [
    "> **Note**: Once you have completed all of the code implementations and successfully answered each question above, you may finalize your work by exporting the iPython Notebook as an HTML document. You can do this by using the menu above and navigating to  \\n\",\n",
    "    \"**File -> Download as -> HTML (.html)**. Include the finished document along with this notebook as your submission."
   ]
  },
  {
   "cell_type": "markdown",
   "metadata": {},
   "source": [
    "---\n",
    "\n",
    "## Step 4 (Optional): Visualize the Neural Network's State with Test Images\n",
    "\n",
    " This Section is not required to complete but acts as an additional excersise for understaning the output of a neural network's weights. While neural networks can be a great learning device they are often referred to as a black box. We can understand what the weights of a neural network look like better by plotting their feature maps. After successfully training your neural network you can see what it's feature maps look like by plotting the output of the network's weight layers in response to a test stimuli image. From these plotted feature maps, it's possible to see what characteristics of an image the network finds interesting. For a sign, maybe the inner network feature maps react with high activation to the sign's boundary outline or to the contrast in the sign's painted symbol.\n",
    "\n",
    " Provided for you below is the function code that allows you to get the visualization output of any tensorflow weight layer you want. The inputs to the function should be a stimuli image, one used during training or a new one you provided, and then the tensorflow variable name that represents the layer's state during the training process, for instance if you wanted to see what the [LeNet lab's](https://classroom.udacity.com/nanodegrees/nd013/parts/fbf77062-5703-404e-b60c-95b78b2f3f9e/modules/6df7ae49-c61c-4bb2-a23e-6527e69209ec/lessons/601ae704-1035-4287-8b11-e2c2716217ad/concepts/d4aca031-508f-4e0b-b493-e7b706120f81) feature maps looked like for it's second convolutional layer you could enter conv2 as the tf_activation variable.\n",
    "\n",
    "For an example of what feature map outputs look like, check out NVIDIA's results in their paper [End-to-End Deep Learning for Self-Driving Cars](https://devblogs.nvidia.com/parallelforall/deep-learning-self-driving-cars/) in the section Visualization of internal CNN State. NVIDIA was able to show that their network's inner weights had high activations to road boundary lines by comparing feature maps from an image with a clear path to one without. Try experimenting with a similar test to show that your trained network's weights are looking for interesting features, whether it's looking at differences in feature maps from images with or without a sign, or even what feature maps look like in a trained network vs a completely untrained one on the same sign image.\n",
    "\n",
    "<figure>\n",
    " <img src=\"visualize_cnn.png\" width=\"380\" alt=\"Combined Image\" />\n",
    " <figcaption>\n",
    " <p></p> \n",
    " <p style=\"text-align: center;\"> Your output should look something like this (above)</p> \n",
    " </figcaption>\n",
    "</figure>\n",
    " <p></p> \n"
   ]
  },
  {
   "cell_type": "code",
   "execution_count": null,
   "metadata": {
    "collapsed": true
   },
   "outputs": [],
   "source": [
    "### Visualize your network's feature maps here.\n",
    "### Feel free to use as many code cells as needed.\n",
    "\n",
    "# image_input: the test image being fed into the network to produce the feature maps\n",
    "# tf_activation: should be a tf variable name used during your training procedure that represents the calculated state of a specific weight layer\n",
    "# activation_min/max: can be used to view the activation contrast in more detail, by default matplot sets min and max to the actual min and max values of the output\n",
    "# plt_num: used to plot out multiple different weight feature map sets on the same block, just extend the plt number for each new feature map entry\n",
    "\n",
    "def outputFeatureMap(image_input, tf_activation, activation_min=-1, activation_max=-1 ,plt_num=1):\n",
    "    # Here make sure to preprocess your image_input in a way your network expects\n",
    "    # with size, normalization, ect if needed\n",
    "    # image_input =\n",
    "    # Note: x should be the same name as your network's tensorflow data placeholder variable\n",
    "    # If you get an error tf_activation is not defined it may be having trouble accessing the variable from inside a function\n",
    "    activation = tf_activation.eval(session=sess,feed_dict={x : image_input})\n",
    "    featuremaps = activation.shape[3]\n",
    "    plt.figure(plt_num, figsize=(15,15))\n",
    "    for featuremap in range(featuremaps):\n",
    "        plt.subplot(6,8, featuremap+1) # sets the number of feature maps to show on each row and column\n",
    "        plt.title('FeatureMap ' + str(featuremap)) # displays the feature map number\n",
    "        if activation_min != -1 & activation_max != -1:\n",
    "            plt.imshow(activation[0,:,:, featuremap], interpolation=\"nearest\", vmin =activation_min, vmax=activation_max, cmap=\"gray\")\n",
    "        elif activation_max != -1:\n",
    "            plt.imshow(activation[0,:,:, featuremap], interpolation=\"nearest\", vmax=activation_max, cmap=\"gray\")\n",
    "        elif activation_min !=-1:\n",
    "            plt.imshow(activation[0,:,:, featuremap], interpolation=\"nearest\", vmin=activation_min, cmap=\"gray\")\n",
    "        else:\n",
    "            plt.imshow(activation[0,:,:, featuremap], interpolation=\"nearest\", cmap=\"gray\")"
   ]
  }
 ],
 "metadata": {
  "anaconda-cloud": {},
  "kernelspec": {
   "display_name": "Python 3",
   "language": "python",
   "name": "python3"
  },
  "language_info": {
   "codemirror_mode": {
    "name": "ipython",
    "version": 3
   },
   "file_extension": ".py",
   "mimetype": "text/x-python",
   "name": "python",
   "nbconvert_exporter": "python",
   "pygments_lexer": "ipython3",
   "version": "3.6.3"
  }
 },
 "nbformat": 4,
 "nbformat_minor": 1
}
